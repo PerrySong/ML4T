{
 "cells": [
  {
   "cell_type": "markdown",
   "metadata": {},
   "source": [
    "# How to transform data into factors\n",
    "Based on a conceptual understanding of key factor categories, their rationale and popular metrics, a key task is to identify new factors that may better capture the risks embodied by the return drivers laid out previously, or to find new ones.\n",
    "\n",
    "In either case, it will be important to compare the performance of innovative factors to that of known factors to identify incremental signal gains.\n",
    "\n",
    "We create the dataset here and store it in our data folder to facilitate reuse in later chapters."
   ]
  },
  {
   "cell_type": "markdown",
   "metadata": {},
   "source": [
    "# Momentum and sentiment\n",
    "\n",
    "## Momentum factors\n",
    "derived from changes in price time series by identifying trends and patterns. They can be constructed based on absolute or relative return by comparing a cross-section of assets or analyzing an asset's time series, within or across traditional asset classes, and at different time horizons."
   ]
  },
  {
   "cell_type": "markdown",
   "metadata": {},
   "source": [
    "## Factors\n",
    "**RSI**: Relative strength index:RSI compares the magnitude of recent price changes across stocks to identify stocks as overbought or oversold. A high RSI (usually above 70) indicates overbought and a low RSI (tipycally below 30) indicates oversold. It first computes the average price change for a given number (often 14) of prior trading days with rising prices and falling prices, respectively to compute RSI.\n",
    "\n",
    "**Price Momentum**: This factor computes the total return for a given number of prior trading days. In academic literature, it is common to use the last 12 months except for the most recent month due to a short-term reversal effect that's frequently ovserved. However, shorter periods have also been widely used.\n",
    "\n",
    "**12 month price momentum volume adjustment**: Price acceleration calculates the gradient of the price trend (adjusted for volatility) using linear regression on daily prices for a longer and a shorter period, for example, 1 tear and 3 months of trading days, and compares the change in the slope as a measure of price acceleration.\n",
    "\n",
    "**Price acceleration**: This factor uses the percent difference between the most recent and the highest price for the last 52 weeks.\n",
    "\n",
    "**Percent off 52-week high**: This factor uses the percent difference between the most recent and the highest price for the last 52 weeks.\n",
    "\n",
    "Additional sentiment indicators:\n",
    "\n",
    "**Earnings estimates count**\n",
    "**N-month change in recommendation**\n",
    "**12-month change in shares outstanding**\n",
    "**6-month change in target price**\n",
    "**Net earnings revisions**\n",
    "**Short interest to shares outstanding**"
   ]
  },
  {
   "cell_type": "markdown",
   "metadata": {},
   "source": [
    "# Value factors - hunting fundamental bargains\n",
    "Stocks with low prices relative to their fundamental value tend to deliver returns in excess of a capitalization-weighted benchmark. Value factors reflect this correlation and are designed to send buy signals for undervalued assets that are relatively cheap and sell signals for overvalued assets. Hence, at the core of any value strategy is a model that estimates the asset's fair or fundamental value. Fair value can be defined as an absolute price level, a spread relative to other assets, or a range in which an asset should trade.\n",
    "\n",
    "**Cash flow yield**   \n",
    "**Free cash flow yield**   \n",
    "**Cash flow return on invested capital (CFROIC)**    \n",
    "**Cash flow to total assets**   \n",
    "**Free cash flow to enterprise value**   \n",
    "**EBITDA to enterprise value**    \n",
    "**Earnings yield**   \n",
    "**Earnings yield 1-year forward**   \n",
    "**PEG ratio**   \n",
    "**P/E 1-year forward relative to the sector**   \n",
    "**Sales yield**    \n",
    "**Sales yield forward**    \n",
    "**Book value yield**   \n",
    "**Dividend yield**   "
   ]
  },
  {
   "cell_type": "markdown",
   "metadata": {},
   "source": [
    "# Volatility and size anomalies\n",
    "The size effect is among the older risk factors and relates to the excess performance of stocks with a low market capitalization. More recently, the low -volatility factor has been shown to capture excess returns on stocks with below-average volatility, beta, or idiosyncratic risk. Stocks with a larger market capitalization tend to have lower volatility so that the traditional size factor is ofthen combined with the more recent volatility."
   ]
  },
  {
   "cell_type": "markdown",
   "metadata": {},
   "source": [
    "# Qulity factors for quantitative investing\n",
    "Quality factors aim to capture the excess returns reaped by companies that are highly profitable, operationally efficient, safe, stable, and well-governed - in short, high quality. The markets also appear to reward relative earnings certainty and penalize stocks with high earnings volatility.\n",
    "\n",
    "**Asset turnover**  \n",
    "**Asset turnover 12 month change**  \n",
    "**Current ratio**  \n",
    "**Interest coverage**  \n",
    "**Leverage**  \n",
    "**Payout ratio**  \n",
    "**Return on equity (ROE)**  \n",
    "\n"
   ]
  },
  {
   "cell_type": "code",
   "execution_count": null,
   "metadata": {},
   "outputs": [],
   "source": []
  }
 ],
 "metadata": {
  "kernelspec": {
   "display_name": "Python 3.6.5 64-bit",
   "language": "python",
   "name": "python36564bitad27fdef64964920a51cbdcf24c7da9f"
  },
  "language_info": {
   "codemirror_mode": {
    "name": "ipython",
    "version": 3
   },
   "file_extension": ".py",
   "mimetype": "text/x-python",
   "name": "python",
   "nbconvert_exporter": "python",
   "pygments_lexer": "ipython3",
   "version": "3.6.5"
  }
 },
 "nbformat": 4,
 "nbformat_minor": 2
}
